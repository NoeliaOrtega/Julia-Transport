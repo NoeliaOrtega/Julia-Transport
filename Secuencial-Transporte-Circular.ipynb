{
 "cells": [
  {
   "cell_type": "code",
   "execution_count": 1,
   "metadata": {},
   "outputs": [
    {
     "data": {
      "text/plain": [
       "1"
      ]
     },
     "execution_count": 1,
     "metadata": {},
     "output_type": "execute_result"
    }
   ],
   "source": [
    "Threads.nthreads()"
   ]
  },
  {
   "cell_type": "code",
   "execution_count": 2,
   "metadata": {},
   "outputs": [],
   "source": [
    "using Gridap\n",
    "import Gridap: ∇\n",
    "using LinearAlgebra\n",
    "using GridapGmsh"
   ]
  },
  {
   "cell_type": "code",
   "execution_count": 3,
   "metadata": {},
   "outputs": [
    {
     "name": "stdout",
     "output_type": "stream",
     "text": [
      "Info    : Reading 'test-gridap/circle.msh'...\n",
      "Info    : 423 nodes\n",
      "Info    : 844 elements\n",
      "Info    : Done reading 'test-gridap/circle.msh'\n"
     ]
    },
    {
     "data": {
      "text/plain": [
       "CellQuadrature()"
      ]
     },
     "execution_count": 3,
     "metadata": {},
     "output_type": "execute_result"
    }
   ],
   "source": [
    "#Mallado\n",
    "model = GmshDiscreteModel(\"test-gridap/circle.msh\")\n",
    "const global degree = 1\n",
    "Ω = Triangulation(model)\n",
    "dΩ = Measure(Ω,2*degree)\n",
    "quad = CellQuadrature(Ω,degree)"
   ]
  },
  {
   "cell_type": "code",
   "execution_count": 4,
   "metadata": {},
   "outputs": [],
   "source": [
    "#Parámetros\n",
    "\n",
    "u_input(x) = 0.  #valor en la frontera izquierda\n",
    "betaf(x) = VectorValue(-x[2],x[1]) #vector de transporte\n",
    "u_init(x) = exp(-1000*((x[1]-0.3)^2+(x[2])^2)) #Condición inicial\n",
    "\n",
    "#Partición en tiempo\n",
    "const global t_init = 0.\n",
    "t_end = 2*π\n",
    "\n",
    "N_intervalos = 100;\n",
    "\n",
    "n_iter = 1;\n",
    "T = LinRange(t_init, t_end, N_intervalos+1);"
   ]
  },
  {
   "cell_type": "code",
   "execution_count": 5,
   "metadata": {},
   "outputs": [
    {
     "data": {
      "text/plain": [
       "UnconstrainedFESpace()"
      ]
     },
     "execution_count": 5,
     "metadata": {},
     "output_type": "execute_result"
    }
   ],
   "source": [
    "#Espacio de funciones\n",
    "order = 1\n",
    "reffe = ReferenceFE(lagrangian,Float64,order)\n",
    "V0 = TestFESpace(model,reffe,dirichlet_tags=[\"Dirichlet\"])\n",
    "\n",
    "U = TrialFESpace(V0)\n",
    "\n",
    "#beta = interpolate_everywhere(betaf,U)\n",
    "#beta = get_free_dof_values(beta)"
   ]
  },
  {
   "cell_type": "code",
   "execution_count": 6,
   "metadata": {},
   "outputs": [
    {
     "data": {
      "text/plain": [
       "MassLumping (generic function with 1 method)"
      ]
     },
     "execution_count": 6,
     "metadata": {},
     "output_type": "execute_result"
    }
   ],
   "source": [
    "function MassLumping(M)\n",
    "    n = size(M)[1]\n",
    "    ML = zeros(n,n)\n",
    "    for i = 1:n\n",
    "        ML[i,i] = sum(M[i,:])\n",
    "        end\n",
    "    return ML\n",
    "end"
   ]
  },
  {
   "cell_type": "code",
   "execution_count": 7,
   "metadata": {},
   "outputs": [
    {
     "data": {
      "text/plain": [
       "AddDifussion (generic function with 1 method)"
      ]
     },
     "execution_count": 7,
     "metadata": {},
     "output_type": "execute_result"
    }
   ],
   "source": [
    "function AddDifussion(C)\n",
    "    n = size(C)[1]\n",
    "    L = zeros(n,n)\n",
    "    for i=1:n\n",
    "        d_diag = 0\n",
    "        for j =1:(i-1)\n",
    "            d = max(-C[i,j],0, -C[j,i])\n",
    "            L[i,j]= C[i,j] + d\n",
    "            L[j,i]= C[j,i] + d\n",
    "            d_diag += d\n",
    "        end\n",
    "        L[i,i] = C[i,i] - d_diag\n",
    "    end\n",
    "    return L\n",
    "end"
   ]
  },
  {
   "cell_type": "code",
   "execution_count": 8,
   "metadata": {},
   "outputs": [
    {
     "data": {
      "text/plain": [
       "DifussionArtificial (generic function with 1 method)"
      ]
     },
     "execution_count": 8,
     "metadata": {},
     "output_type": "execute_result"
    }
   ],
   "source": [
    "function DifussionArtificial(C)\n",
    "    n = size(C)[1]\n",
    "    D = zeros(n,n)\n",
    "    for i=1:n\n",
    "        for j=1:(i-1)\n",
    "            D[i,j] = D[j,i] = max(-C[i,j],0,-C[j,i])\n",
    "            end\n",
    "        end \n",
    "    for i=1:n\n",
    "        D[i,i] = -sum(D[i,:])\n",
    "        end \n",
    "    return D\n",
    "end "
   ]
  },
  {
   "cell_type": "code",
   "execution_count": 9,
   "metadata": {},
   "outputs": [
    {
     "data": {
      "text/plain": [
       "TestPositividad (generic function with 1 method)"
      ]
     },
     "execution_count": 9,
     "metadata": {},
     "output_type": "execute_result"
    }
   ],
   "source": [
    "function TestPositividad(A,B)\n",
    "    n = size(A)[1]\n",
    "    for i=1:n\n",
    "        if(A[i,i]<=0)\n",
    "            throw(error(\"Elemento diagonal negativo\"))\n",
    "        end\n",
    "        for j=1:(i-1)\n",
    "            if(A[i,j]>0)\n",
    "            throw(error(\"Elemento no diagonal positivo\"))\n",
    "        end\n",
    "        end \n",
    "        for j=(i+1):n\n",
    "            if(A[i,j]>0)\n",
    "            throw(error(\"Elemento no diagonal positivo\"))\n",
    "        end\n",
    "        end \n",
    "        if(sum(A[i,:])<0)\n",
    "            throw(error(\"Fila con suma negativa\"))\n",
    "        end \n",
    "        if(B[i]<0)\n",
    "            throw(error(\"Elemento de B negativo\"))\n",
    "        end \n",
    "    end \n",
    "    \n",
    "end \n",
    "        "
   ]
  },
  {
   "cell_type": "code",
   "execution_count": 10,
   "metadata": {},
   "outputs": [
    {
     "data": {
      "text/plain": [
       "FE_function_type (generic function with 1 method)"
      ]
     },
     "execution_count": 10,
     "metadata": {},
     "output_type": "execute_result"
    }
   ],
   "source": [
    "FE_function_type() = Gridap.CellData.OperationCellField"
   ]
  },
  {
   "cell_type": "code",
   "execution_count": 25,
   "metadata": {},
   "outputs": [
    {
     "data": {
      "text/plain": [
       "EulerMEF (generic function with 1 method)"
      ]
     },
     "execution_count": 25,
     "metadata": {},
     "output_type": "execute_result"
    }
   ],
   "source": [
    "function EulerMEF(t_init,t_end,n_t,u_init)\n",
    "    dt = (t_end - t_init)/n_t\n",
    "    t = t_init\n",
    "    u0 = interpolate_everywhere(u_init,U)\n",
    "    u0 = get_free_dof_values(u0)\n",
    "    \n",
    "    a_convec(u,v) = ∫(betaf⋅∇(u)*v)*dΩ #conveccion\n",
    "    a_masa(u,v)= ∫(v*u)*dΩ  #matriz masa\n",
    "    \n",
    "    uf = get_trial_fe_basis(V0)\n",
    "    vf = get_fe_basis(V0)\n",
    "    cell_dofs = get_cell_dof_ids(V0)\n",
    "    assem = SparseMatrixAssembler(V0,V0)\n",
    "    \n",
    "    cell_mat_masa = a_masa(uf,vf)[Ω]\n",
    "    data_masa = ([cell_mat_masa], [cell_dofs], [cell_dofs])\n",
    "    M = assemble_matrix(assem,data_masa)\n",
    "    ML = MassLumping(M)\n",
    "    \n",
    "    cell_mat_convec = a_convec(uf,vf)[Ω]\n",
    "    data_convec = ([cell_mat_convec], [cell_dofs], [cell_dofs])\n",
    "    K = assemble_matrix(assem,data_convec)\n",
    "    \n",
    "    D = DifussionArtificial(-K)\n",
    "    \n",
    "    L = -K + D\n",
    "    \n",
    "    A = ML - dt*L\n",
    "    B = ML*u0  # multiplicar matriz por el vector u0\n",
    "    \n",
    "    #TestPositividad(A,B)\n",
    "\n",
    "    for i=1:n_t\n",
    "        t += dt\n",
    "        u_sol = A\\B\n",
    "        u0 = FEFunction(U,u_sol)\n",
    "        \n",
    "        B = ML*u_sol  # multiplicar matriz por el vector u0\n",
    "    end\n",
    "    return u0\n",
    "end "
   ]
  },
  {
   "cell_type": "code",
   "execution_count": 26,
   "metadata": {},
   "outputs": [
    {
     "data": {
      "text/plain": [
       "SingleFieldFEFunction():\n",
       " num_cells: 780\n",
       " DomainStyle: ReferenceDomain()\n",
       " Triangulation: BodyFittedTriangulation()\n",
       " Triangulation id: 606179847501829834"
      ]
     },
     "execution_count": 26,
     "metadata": {},
     "output_type": "execute_result"
    }
   ],
   "source": [
    "EulerMEF(t_init,t_end,N_intervalos,u_init)"
   ]
  },
  {
   "cell_type": "code",
   "execution_count": 27,
   "metadata": {},
   "outputs": [
    {
     "data": {
      "text/plain": [
       "G (generic function with 1 method)"
      ]
     },
     "execution_count": 27,
     "metadata": {},
     "output_type": "execute_result"
    }
   ],
   "source": [
    "t_n_f = 20;\n",
    "t_n_c = 10;\n",
    "\n",
    "F(t1, t0, u0) =  EulerMEF(t0, t1, t_n_f,u0)\n",
    "G(t1, t0, u0) =  EulerMEF(t0, t1, t_n_c,u0)"
   ]
  },
  {
   "cell_type": "code",
   "execution_count": 28,
   "metadata": {},
   "outputs": [
    {
     "data": {
      "text/plain": [
       "FE_function_type (generic function with 1 method)"
      ]
     },
     "execution_count": 28,
     "metadata": {},
     "output_type": "execute_result"
    }
   ],
   "source": [
    "dt = (t_end - t_init)/N_intervalos\n",
    "\n",
    "u0_guardar = EulerMEF(t_init, t_init+dt, 1, u_init)\n",
    "\n",
    "typeof(u0_guardar)\n",
    "FE_function_type() = Gridap.CellData.OperationCellField"
   ]
  },
  {
   "cell_type": "code",
   "execution_count": 29,
   "metadata": {},
   "outputs": [
    {
     "data": {
      "text/plain": [
       "EDP_secuencial (generic function with 1 method)"
      ]
     },
     "execution_count": 29,
     "metadata": {},
     "output_type": "execute_result"
    }
   ],
   "source": [
    "function EDP_secuencial()\n",
    "    U = Array{FE_function_type(),2}(undef, N_intervalos+1, n_iter+1);\n",
    "    F_sol = Array{FE_function_type(),1}(undef, N_intervalos+1);\n",
    "\n",
    "\n",
    "    # 1.a) Inicialización (aproximción grosera)\n",
    "    U[1,1] = 1*u0_guardar\n",
    "    \n",
    "\n",
    "    for n=1:N_intervalos\n",
    "        U[n+1,1] = 1*G( T[n+1],T[n],U[n,1] )\n",
    "    end\n",
    "    \n",
    "        \n",
    "    # 1.b) Inicialización etapas parareal\n",
    "    for k=1:n_iter\n",
    "        U[1,k+1] = 1*u0_guardar\n",
    "    end\n",
    "\n",
    "    # 2) Bucle parareal\n",
    "    for k=1:n_iter\n",
    " \n",
    "        # 2.a) Aproximación fina (paralela) en cada subintervalo\n",
    "        for n = 1:N_intervalos\n",
    "            F_sol[n] = 1*F( T[n+1], T[n], U[n,k] )\n",
    "        end\n",
    "        \n",
    "        # 2.b) Corrección secuencial\n",
    "        for n = 1:N_intervalos\n",
    "            U[n+1, k+1] = F_sol[n] + G( T[n+1], T[n], U[n,k+1] ) \n",
    "            - G( T[n+1], T[n], U[n,k] )\n",
    "        end\n",
    "    end\n",
    "    \n",
    "    return U\n",
    "    \n",
    "end"
   ]
  },
  {
   "cell_type": "code",
   "execution_count": 30,
   "metadata": {},
   "outputs": [
    {
     "name": "stdout",
     "output_type": "stream",
     "text": [
      " 40.763209 seconds (8.54 M allocations: 9.584 GiB, 2.29% gc time)\n"
     ]
    }
   ],
   "source": [
    "@time U1 = EDP_secuencial();"
   ]
  },
  {
   "cell_type": "code",
   "execution_count": 31,
   "metadata": {},
   "outputs": [],
   "source": [
    "for i=1:N_intervalos+1\n",
    "    sol = U1[i,end]\n",
    "    writevtk(Ω,\"Sol_numerica$(lpad(i,2,'0'))\",cellfields=[\"sol\" => sol])\n",
    "end \n"
   ]
  },
  {
   "cell_type": "code",
   "execution_count": 16,
   "metadata": {},
   "outputs": [
    {
     "name": "stdout",
     "output_type": "stream",
     "text": [
      "0.003262844885942757\n",
      "0.003262844921863485\n",
      "0.003262845021583042\n",
      "0.0032628452905109307\n",
      "0.003262845964821981\n",
      "0.0032628474919287834\n",
      "0.0032628506018971717\n",
      "0.0032628563509431705\n",
      "0.003262866130102479\n",
      "0.0032628816431595964\n",
      "0.0032629048637482726\n",
      "0.0032629379820114913\n",
      "0.0032629833483535033\n",
      "0.0032630434180281383\n",
      "0.003263120697286006\n",
      "0.0032632176902511107\n",
      "0.003263336845517065\n",
      "0.0032634805021409703\n",
      "0.0032636508357056825\n",
      "0.00326384980600489\n",
      "0.003264079108475294\n",
      "0.0032643401317249045\n",
      "0.0032646339234446704\n",
      "0.0032649611667247896\n",
      "0.003265322168382636\n",
      "0.0032657168603702586\n",
      "0.0032661448146671435\n",
      "0.003266605271283957\n",
      "0.003267097178131688\n",
      "0.0032676192406100313\n",
      "0.0032681699779288638\n",
      "0.003268747782504441\n",
      "0.0032693509783687583\n",
      "0.0032699778744749953\n",
      "0.003270626809108839\n",
      "0.003271296182312795\n",
      "0.003271984474236769\n",
      "0.0032726902485418342\n",
      "0.0032734121412794797\n",
      "0.0032741488369114695\n",
      "0.003274899034202764\n",
      "0.0032756614055112383\n",
      "0.003276434553449215\n",
      "0.003277216968977113\n",
      "0.003278006994722232\n",
      "0.003278802796742185\n",
      "0.0032796023471451823\n",
      "0.0032804034190250736\n",
      "0.0032812035941598076\n",
      "0.003282000282944222\n",
      "0.003282790755157462\n",
      "0.003283572179458116\n",
      "0.003284341668994004\n",
      "0.0032850963302246973\n",
      "0.003285833311981523\n",
      "0.003286549851914047\n",
      "0.003287243317764544\n",
      "0.0032879112413364783\n",
      "0.0032885513435386847\n",
      "0.003289161549454942\n",
      "0.00328973999297125\n",
      "0.003290285011058734\n",
      "0.003290795128332882\n",
      "0.0032912690329690683\n",
      "0.003291705545437494\n",
      "0.0032921035818185714\n",
      "0.0032924621136684227\n",
      "0.0032927801265247264\n",
      "0.0032930565791759172\n",
      "0.003293290365768849\n",
      "0.0032934802827050158\n",
      "0.0032936250020825816\n",
      "0.0032937230531873618\n",
      "0.0032937728132303792\n",
      "0.003293772508182691\n",
      "0.003293720224180401\n",
      "0.0032936139295763954\n",
      "0.003293451507313418\n",
      "0.0032932307968984893\n",
      "0.0032929496448856764\n",
      "0.0032926059624358555\n",
      "0.0032921977882320284\n",
      "0.0032917233547968086\n",
      "0.0032911811560965634\n",
      "0.0032905700142290216\n",
      "0.0032898891429840775\n",
      "0.00328913820614031\n",
      "0.0032883173685107447\n",
      "0.003287427337974405\n",
      "0.003286469397016363\n",
      "0.0032854454226366\n",
      "0.0032843578938638895\n",
      "0.0032832098865086872\n",
      "0.003282005055194961\n",
      "0.003280747603106839\n",
      "0.003279442240259131\n",
      "0.00327809413143615\n",
      "0.003276708835230462\n",
      "0.003275292235842377\n",
      "0.0032738504694668218\n",
      "0.003272389847192375\n"
     ]
    }
   ],
   "source": [
    "for i=1:N_intervalos+1\n",
    "    int = ∫(U1[i,end])*dΩ\n",
    "    println(Base.sum(int))\n",
    "end "
   ]
  },
  {
   "cell_type": "code",
   "execution_count": null,
   "metadata": {},
   "outputs": [],
   "source": []
  }
 ],
 "metadata": {
  "kernelspec": {
   "display_name": "Julia 1.5.3",
   "language": "julia",
   "name": "julia-1.5"
  },
  "language_info": {
   "file_extension": ".jl",
   "mimetype": "application/julia",
   "name": "julia",
   "version": "1.5.3"
  }
 },
 "nbformat": 4,
 "nbformat_minor": 4
}

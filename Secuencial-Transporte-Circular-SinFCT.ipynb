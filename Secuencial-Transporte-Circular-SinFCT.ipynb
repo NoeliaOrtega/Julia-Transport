{
 "cells": [
  {
   "cell_type": "code",
   "execution_count": 1,
   "metadata": {},
   "outputs": [
    {
     "data": {
      "text/plain": [
       "1"
      ]
     },
     "execution_count": 1,
     "metadata": {},
     "output_type": "execute_result"
    }
   ],
   "source": [
    "Threads.nthreads()"
   ]
  },
  {
   "cell_type": "code",
   "execution_count": 2,
   "metadata": {},
   "outputs": [],
   "source": [
    "using Gridap\n",
    "import Gridap: ∇\n",
    "using LinearAlgebra\n",
    "using GridapGmsh"
   ]
  },
  {
   "cell_type": "code",
   "execution_count": 3,
   "metadata": {},
   "outputs": [
    {
     "name": "stdout",
     "output_type": "stream",
     "text": [
      "Info    : Reading 'test-gridap/circle.msh'...\n",
      "Info    : 423 nodes\n",
      "Info    : 844 elements\n",
      "Info    : Done reading 'test-gridap/circle.msh'\n"
     ]
    },
    {
     "data": {
      "text/plain": [
       "CellQuadrature()"
      ]
     },
     "execution_count": 3,
     "metadata": {},
     "output_type": "execute_result"
    }
   ],
   "source": [
    "#Mallado\n",
    "model = GmshDiscreteModel(\"test-gridap/circle.msh\")\n",
    "const global degree = 1\n",
    "Ω = Triangulation(model)\n",
    "dΩ = Measure(Ω,2*degree)\n",
    "quad = CellQuadrature(Ω,degree)"
   ]
  },
  {
   "cell_type": "code",
   "execution_count": 4,
   "metadata": {},
   "outputs": [],
   "source": [
    "#Parámetros\n",
    "\n",
    "u_input(x) = 0.  #valor en la frontera izquierda\n",
    "betaf(x) = VectorValue(-x[2],x[1]) #vector de transporte\n",
    "u_init(x) = exp(-1000*((x[1]-0.3)^2+(x[2])^2)) #Condición inicial\n",
    "\n",
    "#Partición en tiempo\n",
    "const global t_init = 0.\n",
    "t_end = 2*π\n",
    "\n",
    "N_intervalos = 100;\n",
    "\n",
    "n_iter = 1;\n",
    "T = LinRange(t_init, t_end, N_intervalos+1);"
   ]
  },
  {
   "cell_type": "code",
   "execution_count": 5,
   "metadata": {},
   "outputs": [
    {
     "data": {
      "text/plain": [
       "UnconstrainedFESpace()"
      ]
     },
     "execution_count": 5,
     "metadata": {},
     "output_type": "execute_result"
    }
   ],
   "source": [
    "#Espacio de funciones\n",
    "order = 1\n",
    "reffe = ReferenceFE(lagrangian,Float64,order)\n",
    "V0 = TestFESpace(model,reffe,dirichlet_tags=[\"Dirichlet\"])\n",
    "\n",
    "U = TrialFESpace(V0)\n",
    "\n",
    "#beta = interpolate_everywhere(betaf,U)\n",
    "#beta = get_free_dof_values(beta)"
   ]
  },
  {
   "cell_type": "code",
   "execution_count": 6,
   "metadata": {},
   "outputs": [
    {
     "data": {
      "text/plain": [
       "FE_function_type (generic function with 1 method)"
      ]
     },
     "execution_count": 6,
     "metadata": {},
     "output_type": "execute_result"
    }
   ],
   "source": [
    "FE_function_type() = Gridap.CellData.OperationCellField"
   ]
  },
  {
   "cell_type": "code",
   "execution_count": 15,
   "metadata": {},
   "outputs": [
    {
     "data": {
      "text/plain": [
       "EulerMEF (generic function with 1 method)"
      ]
     },
     "execution_count": 15,
     "metadata": {},
     "output_type": "execute_result"
    }
   ],
   "source": [
    "function EulerMEF(t_init,t_end,n_t,u_init)\n",
    "    dt = (t_end - t_init)/n_t\n",
    "    t = t_init\n",
    "    u0 = interpolate_everywhere(u_init,U)\n",
    "    u0 = get_free_dof_values(u0)\n",
    "    \n",
    "    a_convec(u,v) = ∫(betaf⋅∇(u)*v)*dΩ #conveccion\n",
    "    a_masa(u,v)= ∫(v*u)*dΩ  #matriz masa\n",
    "    \n",
    "    uf = get_trial_fe_basis(V0)\n",
    "    vf = get_fe_basis(V0)\n",
    "    cell_dofs = get_cell_dof_ids(V0)\n",
    "    assem = SparseMatrixAssembler(V0,V0)\n",
    "    \n",
    "    cell_mat_masa = a_masa(uf,vf)[Ω]\n",
    "    data_masa = ([cell_mat_masa], [cell_dofs], [cell_dofs])\n",
    "    M = assemble_matrix(assem,data_masa)\n",
    "    \n",
    "    cell_mat_convec = a_convec(uf,vf)[Ω]\n",
    "    data_convec = ([cell_mat_convec], [cell_dofs], [cell_dofs])\n",
    "    K = assemble_matrix(assem,data_convec)\n",
    "    \n",
    "    A = M + dt*K\n",
    "    B = M*u0  # multiplicar matriz por el vector u0\n",
    "    \n",
    "    #TestPositividad(A,B)\n",
    "\n",
    "    for i=1:n_t\n",
    "        t += dt\n",
    "        u_sol = A\\B\n",
    "        u0 = FEFunction(U,u_sol)\n",
    "        \n",
    "        B = M*u_sol  # multiplicar matriz por el vector u0\n",
    "    end\n",
    "    return u0\n",
    "end "
   ]
  },
  {
   "cell_type": "code",
   "execution_count": 16,
   "metadata": {},
   "outputs": [
    {
     "data": {
      "text/plain": [
       "SingleFieldFEFunction():\n",
       " num_cells: 780\n",
       " DomainStyle: ReferenceDomain()\n",
       " Triangulation: BodyFittedTriangulation()\n",
       " Triangulation id: 13572624806936825544"
      ]
     },
     "execution_count": 16,
     "metadata": {},
     "output_type": "execute_result"
    }
   ],
   "source": [
    "EulerMEF(t_init,t_end,N_intervalos,u_init)"
   ]
  },
  {
   "cell_type": "code",
   "execution_count": 17,
   "metadata": {},
   "outputs": [
    {
     "data": {
      "text/plain": [
       "G (generic function with 1 method)"
      ]
     },
     "execution_count": 17,
     "metadata": {},
     "output_type": "execute_result"
    }
   ],
   "source": [
    "t_n_f = 20;\n",
    "t_n_c = 10;\n",
    "\n",
    "F(t1, t0, u0) =  EulerMEF(t0, t1, t_n_f,u0)\n",
    "G(t1, t0, u0) =  EulerMEF(t0, t1, t_n_c,u0)"
   ]
  },
  {
   "cell_type": "code",
   "execution_count": 18,
   "metadata": {},
   "outputs": [
    {
     "data": {
      "text/plain": [
       "FE_function_type (generic function with 1 method)"
      ]
     },
     "execution_count": 18,
     "metadata": {},
     "output_type": "execute_result"
    }
   ],
   "source": [
    "dt = (t_end - t_init)/N_intervalos\n",
    "\n",
    "u0_guardar = EulerMEF(t_init, t_init+dt, 1, u_init)\n",
    "\n",
    "typeof(u0_guardar)\n",
    "FE_function_type() = Gridap.CellData.OperationCellField"
   ]
  },
  {
   "cell_type": "code",
   "execution_count": 19,
   "metadata": {},
   "outputs": [
    {
     "data": {
      "text/plain": [
       "EDP_secuencial (generic function with 1 method)"
      ]
     },
     "execution_count": 19,
     "metadata": {},
     "output_type": "execute_result"
    }
   ],
   "source": [
    "function EDP_secuencial()\n",
    "    U = Array{FE_function_type(),2}(undef, N_intervalos+1, n_iter+1);\n",
    "    F_sol = Array{FE_function_type(),1}(undef, N_intervalos+1);\n",
    "\n",
    "\n",
    "    # 1.a) Inicialización (aproximción grosera)\n",
    "    U[1,1] = 1*u0_guardar\n",
    "    \n",
    "\n",
    "    for n=1:N_intervalos\n",
    "        U[n+1,1] = 1*G( T[n+1],T[n],U[n,1] )\n",
    "    end\n",
    "    \n",
    "        \n",
    "    # 1.b) Inicialización etapas parareal\n",
    "    for k=1:n_iter\n",
    "        U[1,k+1] = 1*u0_guardar\n",
    "    end\n",
    "\n",
    "    # 2) Bucle parareal\n",
    "    for k=1:n_iter\n",
    " \n",
    "        # 2.a) Aproximación fina (paralela) en cada subintervalo\n",
    "        for n = 1:N_intervalos\n",
    "            F_sol[n] = 1*F( T[n+1], T[n], U[n,k] )\n",
    "        end\n",
    "        \n",
    "        # 2.b) Corrección secuencial\n",
    "        for n = 1:N_intervalos\n",
    "            U[n+1, k+1] = F_sol[n] + G( T[n+1], T[n], U[n,k+1] ) - \n",
    "            G( T[n+1], T[n], U[n,k] )\n",
    "        end\n",
    "    end\n",
    "    \n",
    "    return U\n",
    "    \n",
    "end"
   ]
  },
  {
   "cell_type": "code",
   "execution_count": 20,
   "metadata": {},
   "outputs": [
    {
     "name": "stdout",
     "output_type": "stream",
     "text": [
      "  8.580461 seconds (7.79 M allocations: 3.901 GiB, 3.52% gc time)\n"
     ]
    }
   ],
   "source": [
    "@time U1 = EDP_secuencial();"
   ]
  },
  {
   "cell_type": "code",
   "execution_count": 21,
   "metadata": {},
   "outputs": [],
   "source": [
    "for i=1:N_intervalos+1\n",
    "    sol = U1[i,end]\n",
    "    writevtk(Ω,\"Sol_numerica_sinFCT$(lpad(i,2,'0'))\",cellfields=[\"sol\" => sol])\n",
    "end \n"
   ]
  },
  {
   "cell_type": "code",
   "execution_count": 14,
   "metadata": {},
   "outputs": [
    {
     "name": "stdout",
     "output_type": "stream",
     "text": [
      "0.0032628542315956527\n",
      "0.0032628662234514953\n",
      "0.003262891201366466\n",
      "0.0032629867015266122\n",
      "0.003263350552056406\n",
      "0.003264439955521044\n",
      "0.0032670495457075015\n",
      "0.0032722579585825785\n",
      "0.003281189684452923\n",
      "0.003294629899737793\n",
      "0.0033126259397286647\n",
      "0.0033342480937772843\n",
      "0.003357634159716497\n",
      "0.00338032996831055\n",
      "0.0033998213918608384\n",
      "0.0034140881053620377\n",
      "0.0034220171305499635\n",
      "0.003423578546113748\n",
      "0.003419750221102975\n",
      "0.0034122483256995508\n",
      "0.0034031559164891577\n",
      "0.003394540982506958\n",
      "0.0033881296364195674\n",
      "0.0033850675782550327\n",
      "0.003385778906521782\n",
      "0.0033899218104194214\n",
      "0.003396441269581396\n",
      "0.003403719937425951\n",
      "0.0034098221037226115\n",
      "0.0034128104110626883\n",
      "0.003411095038977807\n",
      "0.0034037574421515735\n",
      "0.0033907826801777034\n",
      "0.003373141576037293\n",
      "0.0033526887151833326\n",
      "0.0033318815255208986\n",
      "0.003313369861435065\n",
      "0.0032995409223160457\n",
      "0.0032921182624494278\n",
      "0.0032919002810633245\n",
      "0.0032986870549972917\n",
      "0.0033113970940003264\n",
      "0.003328332669934163\n",
      "0.003347525258819906\n",
      "0.003367085350757821\n",
      "0.0033854903593040823\n",
      "0.003401764044525283\n",
      "0.0034155247950093982\n",
      "0.0034269048921029745\n",
      "0.0034363667349237106\n",
      "0.003444462454994697\n",
      "0.003451595899101408\n",
      "0.003457845400251814\n",
      "0.0034628895092965414\n",
      "0.003466049000449358\n",
      "0.003466425951468983\n",
      "0.003463095994622887\n",
      "0.003455301538648576\n",
      "0.003442603379172193\n",
      "0.00342496949701899\n",
      "0.0034028025963382764\n",
      "0.003376922662631668\n",
      "0.0033485232083349304\n",
      "0.0033191117080690075\n",
      "0.003290432049606877\n",
      "0.0032643568265982325\n",
      "0.003242735554672414\n",
      "0.0032271937028740144\n",
      "0.0032188951863795345\n",
      "0.0032183024400534205\n",
      "0.0032249858661595582\n",
      "0.0032375408007526947\n",
      "0.003253660300257084\n",
      "0.003270385756877744\n",
      "0.003284519408736875\n",
      "0.003293141904255621\n",
      "0.0032941445878920334\n",
      "0.0032866696512961853\n",
      "0.0032713580857740973\n",
      "0.003250336645536408\n",
      "0.0032269256962344107\n",
      "0.0032051090009244366\n",
      "0.003188859909299915\n",
      "0.0031814522782759574\n",
      "0.0031848895975219818\n",
      "0.0031995605562060553\n",
      "0.003224180095443621\n",
      "0.0032560145190342433\n",
      "0.003291332731574804\n",
      "0.003325986571746411\n",
      "0.003356009331271661\n",
      "0.0033781331264351\n",
      "0.0033901560255431688\n",
      "0.003391127844327968\n",
      "0.003381358410881616\n",
      "0.0033622765158721566\n",
      "0.003336179502780037\n",
      "0.0033059148462017663\n",
      "0.0032745308262103912\n",
      "0.0032449281840767597\n",
      "0.0032195412893191023\n"
     ]
    }
   ],
   "source": [
    "for i=1:N_intervalos+1\n",
    "    int = ∫(U1[i,end])*dΩ\n",
    "    println(Base.sum(int))\n",
    "end "
   ]
  },
  {
   "cell_type": "code",
   "execution_count": null,
   "metadata": {},
   "outputs": [],
   "source": []
  }
 ],
 "metadata": {
  "kernelspec": {
   "display_name": "Julia 1.5.3",
   "language": "julia",
   "name": "julia-1.5"
  },
  "language_info": {
   "file_extension": ".jl",
   "mimetype": "application/julia",
   "name": "julia",
   "version": "1.5.3"
  }
 },
 "nbformat": 4,
 "nbformat_minor": 4
}
